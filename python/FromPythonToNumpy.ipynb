{
 "cells": [
  {
   "cell_type": "markdown",
   "id": "0ef3bfcc-0156-475f-8067-f0c0c4f26162",
   "metadata": {},
   "source": [
    "# From objects to vectors\n",
    "\n",
    "Examples adapted from the the book\n",
    "[From Python to Numpy](https://www.labri.fr/perso/nrougier/from-python-to-numpy/)\n",
    "by Nicolas P. Rougier."
   ]
  },
  {
   "cell_type": "markdown",
   "id": "7baa3c76-b1f0-414c-8efe-06d0864a12b1",
   "metadata": {},
   "source": [
    "Compute the final position of a random walk with `n` steps."
   ]
  },
  {
   "cell_type": "markdown",
   "id": "00f79fdc-24c6-4666-ba56-2040d8f5a4fc",
   "metadata": {},
   "source": [
    "## Object oriented approach"
   ]
  },
  {
   "cell_type": "code",
   "execution_count": 1,
   "id": "6a4a6e26-c731-4cea-8486-4ce43c3051f0",
   "metadata": {},
   "outputs": [],
   "source": [
    "STEPS = 20"
   ]
  },
  {
   "cell_type": "code",
   "execution_count": 2,
   "id": "646abd6b-5c96-408d-a2ea-3ec175374abe",
   "metadata": {},
   "outputs": [],
   "source": [
    "import random\n",
    "\n",
    "class RandomWalker:\n",
    "    def __init__(self):\n",
    "        self.position = 0\n",
    "\n",
    "    def walk(self, n):\n",
    "        self.position = 0\n",
    "        for i in range(n):\n",
    "            yield self.position\n",
    "            self.position += 2 * random.randint(0, 1) - 1  # ?        "
   ]
  },
  {
   "cell_type": "code",
   "execution_count": 3,
   "id": "3f2ca66b-294b-4db2-81fc-4ccc945f00b6",
   "metadata": {},
   "outputs": [
    {
     "name": "stdout",
     "output_type": "stream",
     "text": [
      "14.9 µs ± 3.81 µs per loop (mean ± std. dev. of 7 runs, 1,000 loops each)\n"
     ]
    }
   ],
   "source": [
    "%%timeit -n 1000\n",
    "\n",
    "walker = RandomWalker()\n",
    "walk = list(walker.walk(STEPS))"
   ]
  },
  {
   "cell_type": "code",
   "execution_count": 4,
   "id": "c9230f66-446b-4e20-be00-c3738b621601",
   "metadata": {},
   "outputs": [
    {
     "data": {
      "text/plain": [
       "[0, -1, 0, 1, 0, -1, -2, -1, -2, -1, -2, -1, -2, -1, 0, 1, 0, -1, -2, -3]"
      ]
     },
     "execution_count": 4,
     "metadata": {},
     "output_type": "execute_result"
    }
   ],
   "source": [
    "walker = RandomWalker()\n",
    "list(walker.walk(STEPS))"
   ]
  },
  {
   "cell_type": "markdown",
   "id": "a323d235-3a20-4b5c-94f7-9ed988918e64",
   "metadata": {},
   "source": [
    "## Procedural approach"
   ]
  },
  {
   "cell_type": "code",
   "execution_count": 5,
   "id": "97211c01-584d-486b-8edd-00fee6f5ec98",
   "metadata": {},
   "outputs": [],
   "source": [
    "def random_walk(n):\n",
    "    position = 0\n",
    "    walk = [position]\n",
    "    for i in range(n):\n",
    "        position += 2*random.randint(0, 1)-1\n",
    "        walk.append(position)\n",
    "    return walk"
   ]
  },
  {
   "cell_type": "code",
   "execution_count": 6,
   "id": "250ca752-87e1-4652-9bc8-2fe15397961b",
   "metadata": {},
   "outputs": [
    {
     "name": "stdout",
     "output_type": "stream",
     "text": [
      "11 µs ± 212 ns per loop (mean ± std. dev. of 7 runs, 1,000 loops each)\n"
     ]
    }
   ],
   "source": [
    "%%timeit -n 1000\n",
    "\n",
    "walk = random_walk(STEPS)"
   ]
  },
  {
   "cell_type": "code",
   "execution_count": 7,
   "id": "aa2f654e-d5cb-4d9f-9fb5-b3b8402cffea",
   "metadata": {},
   "outputs": [
    {
     "data": {
      "text/plain": [
       "[0, -1, 0, 1, 2, 3, 4, 5, 4, 3, 4, 3, 2, 3, 4, 5, 6, 5, 4, 3, 4]"
      ]
     },
     "execution_count": 7,
     "metadata": {},
     "output_type": "execute_result"
    }
   ],
   "source": [
    "random_walk(STEPS)"
   ]
  },
  {
   "cell_type": "markdown",
   "id": "57fca577-dcce-4006-982d-bf6b2f00c19f",
   "metadata": {},
   "source": [
    "## Vectorized approach"
   ]
  },
  {
   "cell_type": "code",
   "execution_count": 8,
   "id": "71f42043-60d9-4c02-9417-ff34fb537b06",
   "metadata": {},
   "outputs": [],
   "source": [
    "from itertools import accumulate\n",
    "\n",
    "def random_walk_faster(n):\n",
    "    steps = random.choices([-1,+1], k=n)\n",
    "    return [0]+list(accumulate(steps))"
   ]
  },
  {
   "cell_type": "code",
   "execution_count": 17,
   "id": "e9494b22-a1a8-4081-b469-18e166598394",
   "metadata": {},
   "outputs": [
    {
     "name": "stdout",
     "output_type": "stream",
     "text": [
      "4.14 µs ± 271 ns per loop (mean ± std. dev. of 7 runs, 1,000 loops each)\n"
     ]
    }
   ],
   "source": [
    "%%timeit -n 1000\n",
    "\n",
    "walk = random_walk_faster(STEPS)"
   ]
  },
  {
   "cell_type": "code",
   "execution_count": 10,
   "id": "be62fa95-3372-4f72-93fe-00e8da833e8e",
   "metadata": {},
   "outputs": [
    {
     "data": {
      "text/plain": [
       "[0, 1, 2, 3, 2, 1, 2, 1, 2, 3, 4, 3, 2, 1, 0, 1, 2, 3, 2, 3, 4]"
      ]
     },
     "execution_count": 10,
     "metadata": {},
     "output_type": "execute_result"
    }
   ],
   "source": [
    "random_walk_faster(STEPS)"
   ]
  },
  {
   "cell_type": "markdown",
   "id": "8ed55ee8-1980-42d8-a303-bb841fd267a8",
   "metadata": {},
   "source": [
    "## NumPy approach"
   ]
  },
  {
   "cell_type": "code",
   "execution_count": 11,
   "id": "8d5687c6-046f-4052-b89c-be9e117fbb0a",
   "metadata": {},
   "outputs": [],
   "source": [
    "import numpy as np\n",
    "\n",
    "def random_walk_fastest(n):\n",
    "    # No 's' in numpy choice (Python offers choice & choices)\n",
    "    steps = np.random.choice([-1,+1], n)\n",
    "    return np.cumsum(steps)"
   ]
  },
  {
   "cell_type": "code",
   "execution_count": 16,
   "id": "d0f5826e-1760-4a11-a446-4d29c07afcb1",
   "metadata": {},
   "outputs": [
    {
     "name": "stdout",
     "output_type": "stream",
     "text": [
      "24.8 µs ± 5.26 µs per loop (mean ± std. dev. of 7 runs, 1,000 loops each)\n"
     ]
    }
   ],
   "source": [
    "%%timeit -n 1000\n",
    "\n",
    "walk = random_walk_fastest(STEPS)"
   ]
  },
  {
   "cell_type": "code",
   "execution_count": 13,
   "id": "0a5651c0-1d8f-40e2-9a11-1007768f1574",
   "metadata": {},
   "outputs": [
    {
     "data": {
      "text/plain": [
       "array([-1, -2, -1, -2, -3, -2, -3, -4, -5, -4, -3, -4, -5, -4, -5, -4, -5,\n",
       "       -4, -3, -2])"
      ]
     },
     "execution_count": 13,
     "metadata": {},
     "output_type": "execute_result"
    }
   ],
   "source": [
    "random_walk_fastest(STEPS)"
   ]
  }
 ],
 "metadata": {
  "kernelspec": {
   "display_name": "Python 3 (ipykernel)",
   "language": "python",
   "name": "python3"
  },
  "language_info": {
   "codemirror_mode": {
    "name": "ipython",
    "version": 3
   },
   "file_extension": ".py",
   "mimetype": "text/x-python",
   "name": "python",
   "nbconvert_exporter": "python",
   "pygments_lexer": "ipython3",
   "version": "3.11.1"
  }
 },
 "nbformat": 4,
 "nbformat_minor": 5
}
